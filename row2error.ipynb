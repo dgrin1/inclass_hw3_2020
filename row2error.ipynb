{
 "cells": [
  {
   "cell_type": "code",
   "execution_count": 53,
   "metadata": {},
   "outputs": [
    {
     "name": "stdout",
     "output_type": "stream",
     "text": [
      "4.400000000004267\n"
     ]
    },
    {
     "name": "stderr",
     "output_type": "stream",
     "text": [
      "/anaconda/envs/py37/lib/python3.7/site-packages/ipykernel_launcher.py:94: RuntimeWarning: divide by zero encountered in log\n",
      "/anaconda/envs/py37/lib/python3.7/site-packages/ipykernel_launcher.py:95: RuntimeWarning: divide by zero encountered in log\n",
      "/anaconda/envs/py37/lib/python3.7/site-packages/ipykernel_launcher.py:96: RuntimeWarning: divide by zero encountered in log\n"
     ]
    },
    {
     "data": {
      "image/png": "[encoded data removed]",
      "text/plain": [
       "<Figure size 432x288 with 1 Axes>"
      ]
     },
     "metadata": {
      "needs_background": "light"
     },
     "output_type": "display_data"
    }
   ],
   "source": [
    "\n",
    "import numpy as np\n",
    "import matplotlib.pyplot as plt\n",
    "\n",
    "\n",
    "# In[22]:\n",
    "\n",
    "\n",
    "def f(x):\n",
    "\tval=x**4-2*x+1\n",
    "\treturn val\n",
    "\n",
    "#setting endpoints and number of values\n",
    "N=1000\n",
    "a=0.\n",
    "b=5.\n",
    "\n",
    "def riemann_dan(f,a,b,N):\n",
    "#setting bin width\n",
    "\tdelta_x=(b-a)/N\n",
    "\n",
    "#Create empty list\n",
    "\txvals=[]\n",
    "\tyvals=[]\n",
    "\ts=0\n",
    "\n",
    "#Loop over all y values\n",
    "\tfor i in range(0,N,1):\n",
    "#set x value at left edge of bin\n",
    "\t\tx=a+i*delta_x\n",
    "#set function value of bin\n",
    "\t\ty=f(x)\n",
    "#append x and y to list\n",
    "\t\txvals.append(x)\n",
    "\t\tyvals.append(y)\n",
    "#increment sum\t\n",
    "\t\ts+=y\n",
    "\ts*=delta_x\n",
    "\treturn s\n",
    "\n",
    "\n",
    "def trapezoid(f,a,b,N):\n",
    "    h = (b-a)/N\n",
    "    fa = f(a)\n",
    "    fb = f(b)\n",
    "    y = 0\n",
    "    for i in range(1,N):\n",
    "        y += (f(a+i*h))\n",
    "    s = h*(.5*fa + .5*fb + y)\n",
    "    return s\n",
    "        \n",
    "    \n",
    "        \n",
    "def simpson(f,a,b,N):\n",
    "    h = (b-a)/N\n",
    "    fa = f(a)\n",
    "    fb = f(b)\n",
    "    y1 = 0\n",
    "    y2 = 0\n",
    "    for i in range(1,N,2):\n",
    "        y1+= f(a+i*h)\n",
    "    for i in range(2,N-1,2):\n",
    "        y2 += f(a+i*h)\n",
    "    s = 1/3*h*(fa + fb + 4*y1 + 2*y2)\n",
    "    return s\n",
    "        \n",
    "    \n",
    "    \n",
    "\n",
    "\n",
    "# In[23]:\n",
    "\n",
    "\n",
    "print(simpson(f,0,2,1000))\n",
    "\n",
    "count = 10000\n",
    "errorsimp = np.zeros([count])\n",
    "errortrap = np.zeros([count])\n",
    "errorriem = np.zeros([count])\n",
    "steps = np.zeros([count])\n",
    "for n in range (2,count-1,2):\n",
    "    errorsimp[n] = (abs(4.4-simpson(f,0,2,n)))/4.4\n",
    "    steps[n] = n\n",
    "\n",
    "for n in range (1,count,2):\n",
    "    errortrap[n] = (abs(4.4-trapezoid(f,0,2,n)))/4.4\n",
    "    steps[n] = n\n",
    "\n",
    "for n in range (1,count,2):\n",
    "    errorriem[n] = (abs(4.4-riemann_dan(f,0,2,n)))/4.4\n",
    "    steps[n] = n\n",
    "\n",
    "error[0] = error[1]\n",
    "steps[0] = steps[1]\n",
    "plt.plot(steps,np.log(errorsimp),\"r.\")\n",
    "plt.plot(steps,np.log(errortrap),\"b.\")\n",
    "plt.plot(steps,np.log(errorriem),\"g.\")\n",
    "plt.xscale('log')\n",
    "plt.show()\n",
    "\n"
   ]
  },
  {
   "cell_type": "code",
   "execution_count": null,
   "metadata": {},
   "outputs": [],
   "source": []
  }
 ],
 "metadata": {
  "kernelspec": {
   "display_name": "Python 3",
   "language": "python",
   "name": "python3"
  },
  "language_info": {
   "codemirror_mode": {
    "name": "ipython",
    "version": 3
   },
   "file_extension": ".py",
   "mimetype": "text/x-python",
   "name": "python",
   "nbconvert_exporter": "python",
   "pygments_lexer": "ipython3",
   "version": "3.7.6"
  }
 },
 "nbformat": 4,
 "nbformat_minor": 4
}
